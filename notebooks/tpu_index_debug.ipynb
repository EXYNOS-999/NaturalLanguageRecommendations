{
 "cells": [
  {
   "cell_type": "markdown",
   "metadata": {
    "colab_type": "text",
    "id": "view-in-github"
   },
   "source": [
    "<a href=\"https://colab.research.google.com/github/Santosh-Gupta/NaturalLanguageRecommendations/blob/srihari-dev/notebooks/tpu_index.ipynb\" target=\"_parent\"><img src=\"https://colab.research.google.com/assets/colab-badge.svg\" alt=\"Open In Colab\"/></a>"
   ]
  },
  {
   "cell_type": "code",
   "execution_count": 1,
   "metadata": {
    "colab": {
     "base_uri": "https://localhost:8080/",
     "height": 153
    },
    "colab_type": "code",
    "id": "8wAw2JV6F4Am",
    "outputId": "6ca9a703-0699-425b-926a-eeb6604e8464"
   },
   "outputs": [
    {
     "name": "stdout",
     "output_type": "stream",
     "text": [
      "Downloading...\n",
      "From: https://drive.google.com/uc?id=1-8nsWLseynVj6Z9-E12w1ywnffnqJftm\n",
      "To: /content/Uembeds306Epochs.npy\n",
      "2.59GB [00:21, 119MB/s]\n",
      "Downloading...\n",
      "From: https://drive.google.com/uc?id=1UszbNYQnlNrAcPQkBwvb1wKX21oRPiqb\n",
      "To: /content/Vembeds306Epochs.npy\n",
      "2.59GB [00:38, 67.5MB/s]\n"
     ]
    }
   ],
   "source": [
    "!gdown --id 1-8nsWLseynVj6Z9-E12w1ywnffnqJftm\n",
    "!gdown --id 1UszbNYQnlNrAcPQkBwvb1wKX21oRPiqb"
   ]
  },
  {
   "cell_type": "code",
   "execution_count": 1,
   "metadata": {
    "colab": {
     "base_uri": "https://localhost:8080/",
     "height": 51
    },
    "colab_type": "code",
    "id": "SGov6e8uGO3B",
    "outputId": "a3eeff15-ef9e-4066-9f14-fe349ff14d59"
   },
   "outputs": [
    {
     "name": "stdout",
     "output_type": "stream",
     "text": [
      "TensorFlow 2.x selected.\n",
      "TensorFlow: 2.1.0-rc1\n"
     ]
    }
   ],
   "source": [
    "%tensorflow_version 2.x\n",
    "from concurrent.futures import ProcessPoolExecutor\n",
    "import numpy as np\n",
    "import tensorflow as tf\n",
    "from time import time\n",
    "from tqdm import tqdm_notebook as tqdm\n",
    "print('TensorFlow:', tf.__version__)"
   ]
  },
  {
   "cell_type": "code",
   "execution_count": null,
   "metadata": {
    "colab": {},
    "colab_type": "code",
    "id": "iht3WQa3H_g6"
   },
   "outputs": [],
   "source": [
    "try:\n",
    "    tpu = tf.distribute.cluster_resolver.TPUClusterResolver()  # TPU detection\n",
    "    print('Running on TPU ', tpu.cluster_spec().as_dict()['worker'])\n",
    "except ValueError:\n",
    "    tpu = None\n",
    "\n",
    "if tpu:\n",
    "    tf.config.experimental_connect_to_cluster(tpu)\n",
    "    tf.tpu.experimental.initialize_tpu_system(tpu)\n",
    "    strategy = tf.distribute.experimental.TPUStrategy(tpu)\n",
    "else:\n",
    "    strategy = tf.distribute.MirroredStrategy()\n",
    "\n",
    "print(\"REPLICAS: \", strategy.num_replicas_in_sync)"
   ]
  },
  {
   "cell_type": "code",
   "execution_count": 3,
   "metadata": {
    "colab": {
     "base_uri": "https://localhost:8080/",
     "height": 153
    },
    "colab_type": "code",
    "id": "3ks95sxuIKbR",
    "outputId": "c0ccc370-ac93-4147-b48b-0dd1b015f614"
   },
   "outputs": [
    {
     "data": {
      "text/plain": [
       "['/job:worker/replica:0/task:0/device:TPU:0',\n",
       " '/job:worker/replica:0/task:0/device:TPU:1',\n",
       " '/job:worker/replica:0/task:0/device:TPU:2',\n",
       " '/job:worker/replica:0/task:0/device:TPU:3',\n",
       " '/job:worker/replica:0/task:0/device:TPU:4',\n",
       " '/job:worker/replica:0/task:0/device:TPU:5',\n",
       " '/job:worker/replica:0/task:0/device:TPU:6',\n",
       " '/job:worker/replica:0/task:0/device:TPU:7']"
      ]
     },
     "execution_count": 3,
     "metadata": {
      "tags": []
     },
     "output_type": "execute_result"
    }
   ],
   "source": [
    "workers = ['/job:worker/replica:0/task:0/device:TPU:'+str(i) for i in range(8)]\n",
    "workers"
   ]
  },
  {
   "cell_type": "code",
   "execution_count": null,
   "metadata": {
    "colab": {},
    "colab_type": "code",
    "id": "uByeXRrVO78_"
   },
   "outputs": [],
   "source": [
    "class Index:\n",
    "    def __init__(self, u, v, worker):\n",
    "        self.embeddings = tf.math.l2_normalize(u, axis=1) + tf.math.l2_normalize(v, axis=1)\n",
    "        self.squared_norms_embeddings = tf.expand_dims(tf.square(tf.norm(self.embeddings, axis=1)), axis=0)\n",
    "        self.worker = worker\n",
    "\n",
    "    @tf.function\n",
    "    def search(self, query_vector, top_k=None):\n",
    "      with tf.device(worker):\n",
    "        squared_norms_query_vector = tf.expand_dims(tf.square(tf.norm(query_vector, axis=1)), axis=0)\n",
    "        dot_product = tf.reduce_sum(tf.multiply(self.embeddings, query_vector), axis=1)\n",
    "        distances = tf.maximum(self.squared_norms_embeddings + squared_norms_query_vector - 2 * dot_product, 0)\n",
    "        sorted_indices =  tf.argsort(distances)\n",
    "        if top_k:\n",
    "            sorted_indices = sorted_indices[..., :top_k]\n",
    "        nearest_distances = tf.reshape(tf.gather(distances[0], sorted_indices), shape=[-1, 1])\n",
    "        return nearest_distances[..., 0], sorted_indices[0]"
   ]
  },
  {
   "cell_type": "code",
   "execution_count": 5,
   "metadata": {
    "colab": {
     "base_uri": "https://localhost:8080/",
     "height": 34
    },
    "colab_type": "code",
    "id": "DFloyWt7G8ts",
    "outputId": "ddaf8718-6c4d-46d4-e754-2cf166e99a83"
   },
   "outputs": [
    {
     "data": {
      "text/plain": [
       "((1262996, 512), (1262996, 512))"
      ]
     },
     "execution_count": 5,
     "metadata": {
      "tags": []
     },
     "output_type": "execute_result"
    }
   ],
   "source": [
    "u_embeddings = np.load('Uembeds306Epochs.npy')\n",
    "v_embeddings = np.load('Vembeds306Epochs.npy')\n",
    "u_embeddings.shape, v_embeddings.shape"
   ]
  },
  {
   "cell_type": "code",
   "execution_count": null,
   "metadata": {
    "colab": {},
    "colab_type": "code",
    "id": "AB8L4sA-H2nf"
   },
   "outputs": [],
   "source": [
    "# Discarding last 4 vectors to make number of vectors divisible by 8\n",
    "u_embeddings = np.split(u_embeddings[:-4], 8, axis=0)\n",
    "v_embeddings = np.split(v_embeddings[:-4], 8, axis=0)\n",
    "vecs_per_index = 157874"
   ]
  },
  {
   "cell_type": "code",
   "execution_count": 7,
   "metadata": {
    "colab": {
     "base_uri": "https://localhost:8080/",
     "height": 153
    },
    "colab_type": "code",
    "id": "HoEA0SqeJW4n",
    "outputId": "ddad8271-169b-4377-e94b-68e20bccd08d"
   },
   "outputs": [
    {
     "name": "stdout",
     "output_type": "stream",
     "text": [
      "Building index with 157874 vectors on /job:worker/replica:0/task:0/device:TPU:0\n",
      "Building index with 157874 vectors on /job:worker/replica:0/task:0/device:TPU:1\n",
      "Building index with 157874 vectors on /job:worker/replica:0/task:0/device:TPU:2\n",
      "Building index with 157874 vectors on /job:worker/replica:0/task:0/device:TPU:3\n",
      "Building index with 157874 vectors on /job:worker/replica:0/task:0/device:TPU:4\n",
      "Building index with 157874 vectors on /job:worker/replica:0/task:0/device:TPU:5\n",
      "Building index with 157874 vectors on /job:worker/replica:0/task:0/device:TPU:6\n",
      "Building index with 157874 vectors on /job:worker/replica:0/task:0/device:TPU:7\n"
     ]
    }
   ],
   "source": [
    "## Place 1/8 of total embeddings on each TPU core\n",
    "indices = []\n",
    "for i, worker in enumerate(workers):\n",
    "  with tf.device(worker):\n",
    "    print('Building index with {} vectors on {}'.format(u_embeddings[i].shape[0],worker))\n",
    "    indices.append(Index(u_embeddings[i], v_embeddings[i], worker))"
   ]
  },
  {
   "cell_type": "code",
   "execution_count": null,
   "metadata": {
    "colab": {},
    "colab_type": "code",
    "id": "W5r4LmcVqGAZ"
   },
   "outputs": [],
   "source": [
    "def search(xq):\n",
    "  D, I = [], []\n",
    "  for i in range(8):\n",
    "    print('Search running in index: {}'.format(indices[i].worker))\n",
    "    d, idx = indices[i].search(xq, 1)\n",
    "    D.append(d.numpy()[0])\n",
    "    I.append(i*vecs_per_index + idx.numpy()[0])\n",
    "\n",
    "  id_sorted = np.argsort(D)\n",
    "  D = np.array(D)[id_sorted]\n",
    "  I = np.array(I)[id_sorted]\n",
    "  return D, I"
   ]
  },
  {
   "cell_type": "code",
   "execution_count": 28,
   "metadata": {
    "colab": {
     "base_uri": "https://localhost:8080/",
     "height": 289
    },
    "colab_type": "code",
    "id": "_7JMlz-oisfp",
    "outputId": "21bcdb0a-a975-40c5-eb7f-1737c37f43af"
   },
   "outputs": [
    {
     "name": "stdout",
     "output_type": "stream",
     "text": [
      "Search running in index: /job:worker/replica:0/task:0/device:TPU:0\n",
      "Search running in index: /job:worker/replica:0/task:0/device:TPU:1\n",
      "Search running in index: /job:worker/replica:0/task:0/device:TPU:2\n",
      "Search running in index: /job:worker/replica:0/task:0/device:TPU:3\n",
      "Search running in index: /job:worker/replica:0/task:0/device:TPU:4\n",
      "Search running in index: /job:worker/replica:0/task:0/device:TPU:5\n",
      "Search running in index: /job:worker/replica:0/task:0/device:TPU:6\n",
      "Search running in index: /job:worker/replica:0/task:0/device:TPU:7\n",
      "\n",
      "Actual ID   : 1115204\n",
      "Result ID   : 1115204 \n",
      "\n",
      "Neighbours   : [1115204   84123  604532  881265  190994 1046794  466390  683556]\n",
      "Distances   : [0.     1.9193 1.9222 1.9401 1.9465 1.9475 1.9555 1.9613]\n",
      "\n",
      "Time taken  : 0.24 secs\n"
     ]
    }
   ],
   "source": [
    "n = 10086\n",
    "split = 7 # [0, 7] . # Pick nth vector from given split\n",
    "actual_n = vecs_per_index*split + n\n",
    "\n",
    "xq = tf.nn.l2_normalize(u_embeddings[split][n]) + tf.nn.l2_normalize(v_embeddings[split][n])\n",
    "xq = tf.reshape(xq, [1, -1])\n",
    "\n",
    "s = time()\n",
    "D, I = search(xq)\n",
    "e = time()\n",
    "\n",
    "print('\\nActual ID   :', actual_n)\n",
    "print('Result ID   :', I[0], '\\n')\n",
    "\n",
    "print('Neighbours   :', I )\n",
    "print('Distances   :', np.round(D, 4))\n",
    "print('\\nTime taken  :', np.round(e-s, 2), 'secs')\n",
    "# First search runs slow, because tf.function traces the function\n",
    "# only for the first invocation, following invocations should run fine"
   ]
  },
  {
   "cell_type": "markdown",
   "metadata": {
    "colab_type": "text",
    "id": "T517kc8Q0c0-"
   },
   "source": [
    "#### Checking accuracy"
   ]
  },
  {
   "cell_type": "code",
   "execution_count": null,
   "metadata": {
    "colab": {},
    "colab_type": "code",
    "id": "FpUfykJkxlKN"
   },
   "outputs": [],
   "source": [
    "n_test = 5000\n",
    "random_n = np.random.randint(0, vecs_per_index, n_test)\n",
    "random_split = np.random.randint(0, 8, n_test)"
   ]
  },
  {
   "cell_type": "code",
   "execution_count": 25,
   "metadata": {
    "colab": {
     "base_uri": "https://localhost:8080/",
     "height": 117,
     "referenced_widgets": [
      "77c45ec9d93c43bbb523da2ec45cd90f",
      "3aa9843e4b5241e1808bc55692259cf7",
      "e970f15766aa42c281df14b31b902f92",
      "d8bf419f5cf1491fa021fdabb16b9a53",
      "66be0be7823f4cf399f302f0a61b48d5",
      "0de3e0e635c44282acc831a417d0e309",
      "b4ef6cef8bfc4adbb0fc1e523b6ed0d7",
      "f76a09689f0848909194dd5c31ebf82d"
     ]
    },
    "colab_type": "code",
    "id": "4poe0mEdy454",
    "outputId": "187e5373-9ebe-4970-f1c5-378bb8ae4b40"
   },
   "outputs": [
    {
     "data": {
      "application/vnd.jupyter.widget-view+json": {
       "model_id": "77c45ec9d93c43bbb523da2ec45cd90f",
       "version_major": 2,
       "version_minor": 0
      },
      "text/plain": [
       "HBox(children=(IntProgress(value=0, max=5000), HTML(value='')))"
      ]
     },
     "metadata": {
      "tags": []
     },
     "output_type": "display_data"
    },
    {
     "name": "stdout",
     "output_type": "stream",
     "text": [
      "\n",
      "\n",
      "Time taken per search    : 0.24776199999999998 secs\n",
      "Accuracy                 : 1.0\n"
     ]
    }
   ],
   "source": [
    "y_true= []\n",
    "y_pred = []\n",
    "s = time()\n",
    "for n, split in tqdm(zip(random_n, random_split), total=n_test):\n",
    "  xq = tf.nn.l2_normalize(u_embeddings[split][n]) + tf.nn.l2_normalize(v_embeddings[split][n])\n",
    "  xq = tf.reshape(xq, [1, -1])\n",
    "  actual_n = vecs_per_index*split + n\n",
    "  D, I = [], []\n",
    "  for i in range(8):\n",
    "    d, idx = indices[i].search(xq, 1)\n",
    "    D.append(d.numpy()[0])\n",
    "    I.append(i*vecs_per_index + idx.numpy()[0])\n",
    "  id_sorted = np.argsort(D)\n",
    "  y_pred.append(np.array(I)[id_sorted])\n",
    "  y_true.append(actual_n)\n",
    "e = time()\n",
    "y_true = np.array(y_true)\n",
    "y_pred = np.array(y_pred)\n",
    "print('\\nTime taken per search    :', np.round(e-s, 2) / n_test, 'secs')\n",
    "print('Accuracy                 :', np.sum(y_true == y_pred[:, 0]) / n_test)"
   ]
  },
  {
   "cell_type": "code",
   "execution_count": null,
   "metadata": {
    "colab": {},
    "colab_type": "code",
    "id": "ghMRw0jJj2i3"
   },
   "outputs": [],
   "source": []
  }
 ],
 "metadata": {
  "accelerator": "TPU",
  "colab": {
   "collapsed_sections": [],
   "include_colab_link": true,
   "name": "tpu index.ipynb",
   "provenance": []
  },
  "kernelspec": {
   "display_name": "Python 3",
   "language": "python",
   "name": "python3"
  },
  "language_info": {
   "codemirror_mode": {
    "name": "ipython",
    "version": 3
   },
   "file_extension": ".py",
   "mimetype": "text/x-python",
   "name": "python",
   "nbconvert_exporter": "python",
   "pygments_lexer": "ipython3",
   "version": "3.6.7"
  },
  "widgets": {
   "application/vnd.jupyter.widget-state+json": {
    "0de3e0e635c44282acc831a417d0e309": {
     "model_module": "@jupyter-widgets/base",
     "model_name": "LayoutModel",
     "state": {
      "_model_module": "@jupyter-widgets/base",
      "_model_module_version": "1.2.0",
      "_model_name": "LayoutModel",
      "_view_count": null,
      "_view_module": "@jupyter-widgets/base",
      "_view_module_version": "1.2.0",
      "_view_name": "LayoutView",
      "align_content": null,
      "align_items": null,
      "align_self": null,
      "border": null,
      "bottom": null,
      "display": null,
      "flex": null,
      "flex_flow": null,
      "grid_area": null,
      "grid_auto_columns": null,
      "grid_auto_flow": null,
      "grid_auto_rows": null,
      "grid_column": null,
      "grid_gap": null,
      "grid_row": null,
      "grid_template_areas": null,
      "grid_template_columns": null,
      "grid_template_rows": null,
      "height": null,
      "justify_content": null,
      "justify_items": null,
      "left": null,
      "margin": null,
      "max_height": null,
      "max_width": null,
      "min_height": null,
      "min_width": null,
      "object_fit": null,
      "object_position": null,
      "order": null,
      "overflow": null,
      "overflow_x": null,
      "overflow_y": null,
      "padding": null,
      "right": null,
      "top": null,
      "visibility": null,
      "width": null
     }
    },
    "3aa9843e4b5241e1808bc55692259cf7": {
     "model_module": "@jupyter-widgets/base",
     "model_name": "LayoutModel",
     "state": {
      "_model_module": "@jupyter-widgets/base",
      "_model_module_version": "1.2.0",
      "_model_name": "LayoutModel",
      "_view_count": null,
      "_view_module": "@jupyter-widgets/base",
      "_view_module_version": "1.2.0",
      "_view_name": "LayoutView",
      "align_content": null,
      "align_items": null,
      "align_self": null,
      "border": null,
      "bottom": null,
      "display": null,
      "flex": null,
      "flex_flow": null,
      "grid_area": null,
      "grid_auto_columns": null,
      "grid_auto_flow": null,
      "grid_auto_rows": null,
      "grid_column": null,
      "grid_gap": null,
      "grid_row": null,
      "grid_template_areas": null,
      "grid_template_columns": null,
      "grid_template_rows": null,
      "height": null,
      "justify_content": null,
      "justify_items": null,
      "left": null,
      "margin": null,
      "max_height": null,
      "max_width": null,
      "min_height": null,
      "min_width": null,
      "object_fit": null,
      "object_position": null,
      "order": null,
      "overflow": null,
      "overflow_x": null,
      "overflow_y": null,
      "padding": null,
      "right": null,
      "top": null,
      "visibility": null,
      "width": null
     }
    },
    "66be0be7823f4cf399f302f0a61b48d5": {
     "model_module": "@jupyter-widgets/controls",
     "model_name": "ProgressStyleModel",
     "state": {
      "_model_module": "@jupyter-widgets/controls",
      "_model_module_version": "1.5.0",
      "_model_name": "ProgressStyleModel",
      "_view_count": null,
      "_view_module": "@jupyter-widgets/base",
      "_view_module_version": "1.2.0",
      "_view_name": "StyleView",
      "bar_color": null,
      "description_width": ""
     }
    },
    "77c45ec9d93c43bbb523da2ec45cd90f": {
     "model_module": "@jupyter-widgets/controls",
     "model_name": "HBoxModel",
     "state": {
      "_dom_classes": [],
      "_model_module": "@jupyter-widgets/controls",
      "_model_module_version": "1.5.0",
      "_model_name": "HBoxModel",
      "_view_count": null,
      "_view_module": "@jupyter-widgets/controls",
      "_view_module_version": "1.5.0",
      "_view_name": "HBoxView",
      "box_style": "",
      "children": [
       "IPY_MODEL_e970f15766aa42c281df14b31b902f92",
       "IPY_MODEL_d8bf419f5cf1491fa021fdabb16b9a53"
      ],
      "layout": "IPY_MODEL_3aa9843e4b5241e1808bc55692259cf7"
     }
    },
    "b4ef6cef8bfc4adbb0fc1e523b6ed0d7": {
     "model_module": "@jupyter-widgets/controls",
     "model_name": "DescriptionStyleModel",
     "state": {
      "_model_module": "@jupyter-widgets/controls",
      "_model_module_version": "1.5.0",
      "_model_name": "DescriptionStyleModel",
      "_view_count": null,
      "_view_module": "@jupyter-widgets/base",
      "_view_module_version": "1.2.0",
      "_view_name": "StyleView",
      "description_width": ""
     }
    },
    "d8bf419f5cf1491fa021fdabb16b9a53": {
     "model_module": "@jupyter-widgets/controls",
     "model_name": "HTMLModel",
     "state": {
      "_dom_classes": [],
      "_model_module": "@jupyter-widgets/controls",
      "_model_module_version": "1.5.0",
      "_model_name": "HTMLModel",
      "_view_count": null,
      "_view_module": "@jupyter-widgets/controls",
      "_view_module_version": "1.5.0",
      "_view_name": "HTMLView",
      "description": "",
      "description_tooltip": null,
      "layout": "IPY_MODEL_f76a09689f0848909194dd5c31ebf82d",
      "placeholder": "​",
      "style": "IPY_MODEL_b4ef6cef8bfc4adbb0fc1e523b6ed0d7",
      "value": "100% 5000/5000 [20:38&lt;00:00,  4.11it/s]"
     }
    },
    "e970f15766aa42c281df14b31b902f92": {
     "model_module": "@jupyter-widgets/controls",
     "model_name": "IntProgressModel",
     "state": {
      "_dom_classes": [],
      "_model_module": "@jupyter-widgets/controls",
      "_model_module_version": "1.5.0",
      "_model_name": "IntProgressModel",
      "_view_count": null,
      "_view_module": "@jupyter-widgets/controls",
      "_view_module_version": "1.5.0",
      "_view_name": "ProgressView",
      "bar_style": "success",
      "description": "",
      "description_tooltip": null,
      "layout": "IPY_MODEL_0de3e0e635c44282acc831a417d0e309",
      "max": 5000,
      "min": 0,
      "orientation": "horizontal",
      "style": "IPY_MODEL_66be0be7823f4cf399f302f0a61b48d5",
      "value": 5000
     }
    },
    "f76a09689f0848909194dd5c31ebf82d": {
     "model_module": "@jupyter-widgets/base",
     "model_name": "LayoutModel",
     "state": {
      "_model_module": "@jupyter-widgets/base",
      "_model_module_version": "1.2.0",
      "_model_name": "LayoutModel",
      "_view_count": null,
      "_view_module": "@jupyter-widgets/base",
      "_view_module_version": "1.2.0",
      "_view_name": "LayoutView",
      "align_content": null,
      "align_items": null,
      "align_self": null,
      "border": null,
      "bottom": null,
      "display": null,
      "flex": null,
      "flex_flow": null,
      "grid_area": null,
      "grid_auto_columns": null,
      "grid_auto_flow": null,
      "grid_auto_rows": null,
      "grid_column": null,
      "grid_gap": null,
      "grid_row": null,
      "grid_template_areas": null,
      "grid_template_columns": null,
      "grid_template_rows": null,
      "height": null,
      "justify_content": null,
      "justify_items": null,
      "left": null,
      "margin": null,
      "max_height": null,
      "max_width": null,
      "min_height": null,
      "min_width": null,
      "object_fit": null,
      "object_position": null,
      "order": null,
      "overflow": null,
      "overflow_x": null,
      "overflow_y": null,
      "padding": null,
      "right": null,
      "top": null,
      "visibility": null,
      "width": null
     }
    }
   }
  }
 },
 "nbformat": 4,
 "nbformat_minor": 4
}
