{
  "nbformat": 4,
  "nbformat_minor": 0,
  "metadata": {
    "colab": {
      "name": "TPUIndexPublic1SecondDemo19p5Million.ipynb",
      "provenance": [],
      "collapsed_sections": [],
      "toc_visible": true,
      "machine_shape": "hm",
      "authorship_tag": "ABX9TyM80g5ETIcL32DuNBxJ8jew",
      "include_colab_link": true
    },
    "kernelspec": {
      "name": "python3",
      "display_name": "Python 3"
    },
    "accelerator": "TPU"
  },
  "cells": [
    {
      "cell_type": "markdown",
      "metadata": {
        "id": "view-in-github",
        "colab_type": "text"
      },
      "source": [
        "<a href=\"https://colab.research.google.com/github/Santosh-Gupta/NaturalLanguageRecommendations/blob/master/notebooks/inference/TPUIndexPublic1SecondDemo19p5Million.ipynb\" target=\"_parent\"><img src=\"https://colab.research.google.com/assets/colab-badge.svg\" alt=\"Open In Colab\"/></a>"
      ]
    },
    {
      "cell_type": "code",
      "metadata": {
        "id": "_TlQno_WHcxF",
        "colab_type": "code",
        "outputId": "4e18663c-0fa5-40a8-a0df-cd9170ac83da",
        "colab": {
          "base_uri": "https://localhost:8080/",
          "height": 33
        }
      },
      "source": [
        "%tensorflow_version 2.x\n",
        "import numpy as np\n",
        "import tensorflow as tf\n",
        "import time"
      ],
      "execution_count": 1,
      "outputs": [
        {
          "output_type": "stream",
          "text": [
            "TensorFlow 2.x selected.\n"
          ],
          "name": "stdout"
        }
      ]
    },
    {
      "cell_type": "markdown",
      "metadata": {
        "id": "FllqWn9fqsGn",
        "colab_type": "text"
      },
      "source": [
        "Install/Import TPUIndex"
      ]
    },
    {
      "cell_type": "code",
      "metadata": {
        "id": "mXguc2c8ioaf",
        "colab_type": "code",
        "outputId": "7eef88ff-3a49-4744-c289-864c410cab08",
        "colab": {
          "base_uri": "https://localhost:8080/",
          "height": 1000
        }
      },
      "source": [
        "!pip install https://github.com/Santosh-Gupta/tpu_index/archive/master.zip\n",
        "from tpu_index import TPUIndex\n"
      ],
      "execution_count": 2,
      "outputs": [
        {
          "output_type": "stream",
          "text": [
            "Collecting https://github.com/Santosh-Gupta/tpu_index/archive/master.zip\n",
            "\u001b[?25l  Downloading https://github.com/Santosh-Gupta/tpu_index/archive/master.zip\n",
            "\u001b[K     / 122kB 79.8MB/s\n",
            "\u001b[?25hRequirement already satisfied (use --upgrade to upgrade): tpu-index==0.0.4 from https://github.com/Santosh-Gupta/tpu_index/archive/master.zip in /usr/local/lib/python3.6/dist-packages\n",
            "Requirement already satisfied: tensorflow>=2.0.0 in /tensorflow-2.1.0/python3.6 (from tpu-index==0.0.4) (2.1.0rc1)\n",
            "Requirement already satisfied: numpy<2.0,>=1.16.0 in /tensorflow-2.1.0/python3.6 (from tensorflow>=2.0.0->tpu-index==0.0.4) (1.18.1)\n",
            "Requirement already satisfied: absl-py>=0.7.0 in /tensorflow-2.1.0/python3.6 (from tensorflow>=2.0.0->tpu-index==0.0.4) (0.9.0)\n",
            "Requirement already satisfied: tensorboard<2.2.0,>=2.1.0 in /tensorflow-2.1.0/python3.6 (from tensorflow>=2.0.0->tpu-index==0.0.4) (2.1.0)\n",
            "Requirement already satisfied: opt-einsum>=2.3.2 in /tensorflow-2.1.0/python3.6 (from tensorflow>=2.0.0->tpu-index==0.0.4) (3.1.0)\n",
            "Requirement already satisfied: protobuf>=3.8.0 in /tensorflow-2.1.0/python3.6 (from tensorflow>=2.0.0->tpu-index==0.0.4) (3.11.2)\n",
            "Requirement already satisfied: termcolor>=1.1.0 in /tensorflow-2.1.0/python3.6 (from tensorflow>=2.0.0->tpu-index==0.0.4) (1.1.0)\n",
            "Requirement already satisfied: keras-preprocessing>=1.1.0 in /tensorflow-2.1.0/python3.6 (from tensorflow>=2.0.0->tpu-index==0.0.4) (1.1.0)\n",
            "Requirement already satisfied: google-pasta>=0.1.6 in /tensorflow-2.1.0/python3.6 (from tensorflow>=2.0.0->tpu-index==0.0.4) (0.1.8)\n",
            "Requirement already satisfied: astor>=0.6.0 in /tensorflow-2.1.0/python3.6 (from tensorflow>=2.0.0->tpu-index==0.0.4) (0.8.1)\n",
            "Requirement already satisfied: six>=1.12.0 in /tensorflow-2.1.0/python3.6 (from tensorflow>=2.0.0->tpu-index==0.0.4) (1.13.0)\n",
            "Requirement already satisfied: gast==0.2.2 in /tensorflow-2.1.0/python3.6 (from tensorflow>=2.0.0->tpu-index==0.0.4) (0.2.2)\n",
            "Requirement already satisfied: keras-applications>=1.0.8 in /tensorflow-2.1.0/python3.6 (from tensorflow>=2.0.0->tpu-index==0.0.4) (1.0.8)\n",
            "Requirement already satisfied: wrapt>=1.11.1 in /tensorflow-2.1.0/python3.6 (from tensorflow>=2.0.0->tpu-index==0.0.4) (1.11.2)\n",
            "Requirement already satisfied: tensorflow-estimator<2.2.0,>=2.1.0rc0 in /tensorflow-2.1.0/python3.6 (from tensorflow>=2.0.0->tpu-index==0.0.4) (2.1.0)\n",
            "Requirement already satisfied: grpcio>=1.8.6 in /tensorflow-2.1.0/python3.6 (from tensorflow>=2.0.0->tpu-index==0.0.4) (1.26.0)\n",
            "Requirement already satisfied: wheel>=0.26; python_version >= \"3\" in /tensorflow-2.1.0/python3.6 (from tensorflow>=2.0.0->tpu-index==0.0.4) (0.33.6)\n",
            "Requirement already satisfied: werkzeug>=0.11.15 in /tensorflow-2.1.0/python3.6 (from tensorboard<2.2.0,>=2.1.0->tensorflow>=2.0.0->tpu-index==0.0.4) (0.16.0)\n",
            "Requirement already satisfied: setuptools>=41.0.0 in /tensorflow-2.1.0/python3.6 (from tensorboard<2.2.0,>=2.1.0->tensorflow>=2.0.0->tpu-index==0.0.4) (44.0.0)\n",
            "Requirement already satisfied: google-auth<2,>=1.6.3 in /tensorflow-2.1.0/python3.6 (from tensorboard<2.2.0,>=2.1.0->tensorflow>=2.0.0->tpu-index==0.0.4) (1.10.0)\n",
            "Requirement already satisfied: requests<3,>=2.21.0 in /tensorflow-2.1.0/python3.6 (from tensorboard<2.2.0,>=2.1.0->tensorflow>=2.0.0->tpu-index==0.0.4) (2.22.0)\n",
            "Requirement already satisfied: google-auth-oauthlib<0.5,>=0.4.1 in /tensorflow-2.1.0/python3.6 (from tensorboard<2.2.0,>=2.1.0->tensorflow>=2.0.0->tpu-index==0.0.4) (0.4.1)\n",
            "Requirement already satisfied: markdown>=2.6.8 in /tensorflow-2.1.0/python3.6 (from tensorboard<2.2.0,>=2.1.0->tensorflow>=2.0.0->tpu-index==0.0.4) (3.1.1)\n",
            "Requirement already satisfied: h5py in /tensorflow-2.1.0/python3.6 (from keras-applications>=1.0.8->tensorflow>=2.0.0->tpu-index==0.0.4) (2.10.0)\n",
            "Requirement already satisfied: pyasn1-modules>=0.2.1 in /tensorflow-2.1.0/python3.6 (from google-auth<2,>=1.6.3->tensorboard<2.2.0,>=2.1.0->tensorflow>=2.0.0->tpu-index==0.0.4) (0.2.7)\n",
            "Requirement already satisfied: cachetools<5.0,>=2.0.0 in /tensorflow-2.1.0/python3.6 (from google-auth<2,>=1.6.3->tensorboard<2.2.0,>=2.1.0->tensorflow>=2.0.0->tpu-index==0.0.4) (4.0.0)\n",
            "Requirement already satisfied: rsa<4.1,>=3.1.4 in /tensorflow-2.1.0/python3.6 (from google-auth<2,>=1.6.3->tensorboard<2.2.0,>=2.1.0->tensorflow>=2.0.0->tpu-index==0.0.4) (4.0)\n",
            "Requirement already satisfied: certifi>=2017.4.17 in /tensorflow-2.1.0/python3.6 (from requests<3,>=2.21.0->tensorboard<2.2.0,>=2.1.0->tensorflow>=2.0.0->tpu-index==0.0.4) (2019.11.28)\n",
            "Requirement already satisfied: chardet<3.1.0,>=3.0.2 in /tensorflow-2.1.0/python3.6 (from requests<3,>=2.21.0->tensorboard<2.2.0,>=2.1.0->tensorflow>=2.0.0->tpu-index==0.0.4) (3.0.4)\n",
            "Requirement already satisfied: idna<2.9,>=2.5 in /tensorflow-2.1.0/python3.6 (from requests<3,>=2.21.0->tensorboard<2.2.0,>=2.1.0->tensorflow>=2.0.0->tpu-index==0.0.4) (2.8)\n",
            "Requirement already satisfied: urllib3!=1.25.0,!=1.25.1,<1.26,>=1.21.1 in /tensorflow-2.1.0/python3.6 (from requests<3,>=2.21.0->tensorboard<2.2.0,>=2.1.0->tensorflow>=2.0.0->tpu-index==0.0.4) (1.25.7)\n",
            "Requirement already satisfied: requests-oauthlib>=0.7.0 in /tensorflow-2.1.0/python3.6 (from google-auth-oauthlib<0.5,>=0.4.1->tensorboard<2.2.0,>=2.1.0->tensorflow>=2.0.0->tpu-index==0.0.4) (1.3.0)\n",
            "Requirement already satisfied: pyasn1<0.5.0,>=0.4.6 in /tensorflow-2.1.0/python3.6 (from pyasn1-modules>=0.2.1->google-auth<2,>=1.6.3->tensorboard<2.2.0,>=2.1.0->tensorflow>=2.0.0->tpu-index==0.0.4) (0.4.8)\n",
            "Requirement already satisfied: oauthlib>=3.0.0 in /tensorflow-2.1.0/python3.6 (from requests-oauthlib>=0.7.0->google-auth-oauthlib<0.5,>=0.4.1->tensorboard<2.2.0,>=2.1.0->tensorflow>=2.0.0->tpu-index==0.0.4) (3.1.0)\n",
            "Building wheels for collected packages: tpu-index\n",
            "  Building wheel for tpu-index (setup.py) ... \u001b[?25l\u001b[?25hdone\n",
            "  Created wheel for tpu-index: filename=tpu_index-0.0.4-cp36-none-any.whl size=3290 sha256=dfcfcaddd7b867bc87c4a01cd0e7c7cfbb8306a71c086e8ebb02ec73fb9c1a17\n",
            "  Stored in directory: /tmp/pip-ephem-wheel-cache-xqv2d960/wheels/a9/40/24/cad82b97d8b4137574d7ca5bf6aa9d2f209a9d1c37f9647384\n",
            "Successfully built tpu-index\n",
            "INFO:tensorflow:Initializing the TPU system: 10.60.34.10:8470\n"
          ],
          "name": "stdout"
        },
        {
          "output_type": "stream",
          "text": [
            "INFO:tensorflow:Initializing the TPU system: 10.60.34.10:8470\n"
          ],
          "name": "stderr"
        },
        {
          "output_type": "stream",
          "text": [
            "INFO:tensorflow:Clearing out eager caches\n"
          ],
          "name": "stdout"
        },
        {
          "output_type": "stream",
          "text": [
            "INFO:tensorflow:Clearing out eager caches\n"
          ],
          "name": "stderr"
        },
        {
          "output_type": "stream",
          "text": [
            "INFO:tensorflow:Finished initializing TPU system.\n"
          ],
          "name": "stdout"
        },
        {
          "output_type": "stream",
          "text": [
            "INFO:tensorflow:Finished initializing TPU system.\n"
          ],
          "name": "stderr"
        },
        {
          "output_type": "stream",
          "text": [
            "INFO:tensorflow:Found TPU system:\n"
          ],
          "name": "stdout"
        },
        {
          "output_type": "stream",
          "text": [
            "INFO:tensorflow:Found TPU system:\n"
          ],
          "name": "stderr"
        },
        {
          "output_type": "stream",
          "text": [
            "INFO:tensorflow:*** Num TPU Cores: 8\n"
          ],
          "name": "stdout"
        },
        {
          "output_type": "stream",
          "text": [
            "INFO:tensorflow:*** Num TPU Cores: 8\n"
          ],
          "name": "stderr"
        },
        {
          "output_type": "stream",
          "text": [
            "INFO:tensorflow:*** Num TPU Workers: 1\n"
          ],
          "name": "stdout"
        },
        {
          "output_type": "stream",
          "text": [
            "INFO:tensorflow:*** Num TPU Workers: 1\n"
          ],
          "name": "stderr"
        },
        {
          "output_type": "stream",
          "text": [
            "INFO:tensorflow:*** Num TPU Cores Per Worker: 8\n"
          ],
          "name": "stdout"
        },
        {
          "output_type": "stream",
          "text": [
            "INFO:tensorflow:*** Num TPU Cores Per Worker: 8\n"
          ],
          "name": "stderr"
        },
        {
          "output_type": "stream",
          "text": [
            "INFO:tensorflow:*** Available Device: _DeviceAttributes(/job:localhost/replica:0/task:0/device:CPU:0, CPU, 0, 0)\n"
          ],
          "name": "stdout"
        },
        {
          "output_type": "stream",
          "text": [
            "INFO:tensorflow:*** Available Device: _DeviceAttributes(/job:localhost/replica:0/task:0/device:CPU:0, CPU, 0, 0)\n"
          ],
          "name": "stderr"
        },
        {
          "output_type": "stream",
          "text": [
            "INFO:tensorflow:*** Available Device: _DeviceAttributes(/job:localhost/replica:0/task:0/device:XLA_CPU:0, XLA_CPU, 0, 0)\n"
          ],
          "name": "stdout"
        },
        {
          "output_type": "stream",
          "text": [
            "INFO:tensorflow:*** Available Device: _DeviceAttributes(/job:localhost/replica:0/task:0/device:XLA_CPU:0, XLA_CPU, 0, 0)\n"
          ],
          "name": "stderr"
        },
        {
          "output_type": "stream",
          "text": [
            "INFO:tensorflow:*** Available Device: _DeviceAttributes(/job:worker/replica:0/task:0/device:CPU:0, CPU, 0, 0)\n"
          ],
          "name": "stdout"
        },
        {
          "output_type": "stream",
          "text": [
            "INFO:tensorflow:*** Available Device: _DeviceAttributes(/job:worker/replica:0/task:0/device:CPU:0, CPU, 0, 0)\n"
          ],
          "name": "stderr"
        },
        {
          "output_type": "stream",
          "text": [
            "INFO:tensorflow:*** Available Device: _DeviceAttributes(/job:worker/replica:0/task:0/device:TPU:0, TPU, 0, 0)\n"
          ],
          "name": "stdout"
        },
        {
          "output_type": "stream",
          "text": [
            "INFO:tensorflow:*** Available Device: _DeviceAttributes(/job:worker/replica:0/task:0/device:TPU:0, TPU, 0, 0)\n"
          ],
          "name": "stderr"
        },
        {
          "output_type": "stream",
          "text": [
            "INFO:tensorflow:*** Available Device: _DeviceAttributes(/job:worker/replica:0/task:0/device:TPU:1, TPU, 0, 0)\n"
          ],
          "name": "stdout"
        },
        {
          "output_type": "stream",
          "text": [
            "INFO:tensorflow:*** Available Device: _DeviceAttributes(/job:worker/replica:0/task:0/device:TPU:1, TPU, 0, 0)\n"
          ],
          "name": "stderr"
        },
        {
          "output_type": "stream",
          "text": [
            "INFO:tensorflow:*** Available Device: _DeviceAttributes(/job:worker/replica:0/task:0/device:TPU:2, TPU, 0, 0)\n"
          ],
          "name": "stdout"
        },
        {
          "output_type": "stream",
          "text": [
            "INFO:tensorflow:*** Available Device: _DeviceAttributes(/job:worker/replica:0/task:0/device:TPU:2, TPU, 0, 0)\n"
          ],
          "name": "stderr"
        },
        {
          "output_type": "stream",
          "text": [
            "INFO:tensorflow:*** Available Device: _DeviceAttributes(/job:worker/replica:0/task:0/device:TPU:3, TPU, 0, 0)\n"
          ],
          "name": "stdout"
        },
        {
          "output_type": "stream",
          "text": [
            "INFO:tensorflow:*** Available Device: _DeviceAttributes(/job:worker/replica:0/task:0/device:TPU:3, TPU, 0, 0)\n"
          ],
          "name": "stderr"
        },
        {
          "output_type": "stream",
          "text": [
            "INFO:tensorflow:*** Available Device: _DeviceAttributes(/job:worker/replica:0/task:0/device:TPU:4, TPU, 0, 0)\n"
          ],
          "name": "stdout"
        },
        {
          "output_type": "stream",
          "text": [
            "INFO:tensorflow:*** Available Device: _DeviceAttributes(/job:worker/replica:0/task:0/device:TPU:4, TPU, 0, 0)\n"
          ],
          "name": "stderr"
        },
        {
          "output_type": "stream",
          "text": [
            "INFO:tensorflow:*** Available Device: _DeviceAttributes(/job:worker/replica:0/task:0/device:TPU:5, TPU, 0, 0)\n"
          ],
          "name": "stdout"
        },
        {
          "output_type": "stream",
          "text": [
            "INFO:tensorflow:*** Available Device: _DeviceAttributes(/job:worker/replica:0/task:0/device:TPU:5, TPU, 0, 0)\n"
          ],
          "name": "stderr"
        },
        {
          "output_type": "stream",
          "text": [
            "INFO:tensorflow:*** Available Device: _DeviceAttributes(/job:worker/replica:0/task:0/device:TPU:6, TPU, 0, 0)\n"
          ],
          "name": "stdout"
        },
        {
          "output_type": "stream",
          "text": [
            "INFO:tensorflow:*** Available Device: _DeviceAttributes(/job:worker/replica:0/task:0/device:TPU:6, TPU, 0, 0)\n"
          ],
          "name": "stderr"
        },
        {
          "output_type": "stream",
          "text": [
            "INFO:tensorflow:*** Available Device: _DeviceAttributes(/job:worker/replica:0/task:0/device:TPU:7, TPU, 0, 0)\n"
          ],
          "name": "stdout"
        },
        {
          "output_type": "stream",
          "text": [
            "INFO:tensorflow:*** Available Device: _DeviceAttributes(/job:worker/replica:0/task:0/device:TPU:7, TPU, 0, 0)\n"
          ],
          "name": "stderr"
        },
        {
          "output_type": "stream",
          "text": [
            "INFO:tensorflow:*** Available Device: _DeviceAttributes(/job:worker/replica:0/task:0/device:TPU_SYSTEM:0, TPU_SYSTEM, 0, 0)\n"
          ],
          "name": "stdout"
        },
        {
          "output_type": "stream",
          "text": [
            "INFO:tensorflow:*** Available Device: _DeviceAttributes(/job:worker/replica:0/task:0/device:TPU_SYSTEM:0, TPU_SYSTEM, 0, 0)\n"
          ],
          "name": "stderr"
        },
        {
          "output_type": "stream",
          "text": [
            "INFO:tensorflow:*** Available Device: _DeviceAttributes(/job:worker/replica:0/task:0/device:XLA_CPU:0, XLA_CPU, 0, 0)\n"
          ],
          "name": "stdout"
        },
        {
          "output_type": "stream",
          "text": [
            "INFO:tensorflow:*** Available Device: _DeviceAttributes(/job:worker/replica:0/task:0/device:XLA_CPU:0, XLA_CPU, 0, 0)\n"
          ],
          "name": "stderr"
        }
      ]
    },
    {
      "cell_type": "code",
      "metadata": {
        "id": "8HNlqxrMq-8J",
        "colab_type": "code",
        "colab": {}
      },
      "source": [
        "# Create dummy embeddings\n",
        "\n",
        "appendEmbeds = np.random.uniform(low=-2, high=2, size=(750000,512)).astype(np.float32)"
      ],
      "execution_count": 0,
      "outputs": []
    },
    {
      "cell_type": "markdown",
      "metadata": {
        "id": "WqGQ3zRKqwst",
        "colab_type": "text"
      },
      "source": [
        "Initialize and create index"
      ]
    },
    {
      "cell_type": "code",
      "metadata": {
        "id": "IH9B3ixDix5R",
        "colab_type": "code",
        "outputId": "d7a355cc-d29f-459b-d02a-3de4dea00227",
        "colab": {
          "base_uri": "https://localhost:8080/",
          "height": 150
        }
      },
      "source": [
        "indexC = TPUIndex(num_tpu_cores=8)\n",
        "indexC.create_index(appendEmbeds.copy())"
      ],
      "execution_count": 4,
      "outputs": [
        {
          "output_type": "stream",
          "text": [
            "Building index with 93750 vectors on /job:worker/replica:0/task:0/device:TPU:0\n",
            "Building index with 93750 vectors on /job:worker/replica:0/task:0/device:TPU:1\n",
            "Building index with 93750 vectors on /job:worker/replica:0/task:0/device:TPU:2\n",
            "Building index with 93750 vectors on /job:worker/replica:0/task:0/device:TPU:3\n",
            "Building index with 93750 vectors on /job:worker/replica:0/task:0/device:TPU:4\n",
            "Building index with 93750 vectors on /job:worker/replica:0/task:0/device:TPU:5\n",
            "Building index with 93750 vectors on /job:worker/replica:0/task:0/device:TPU:6\n",
            "Building index with 93750 vectors on /job:worker/replica:0/task:0/device:TPU:7\n"
          ],
          "name": "stdout"
        }
      ]
    },
    {
      "cell_type": "markdown",
      "metadata": {
        "id": "8fGAe-NSERe4",
        "colab_type": "text"
      },
      "source": [
        "Append vectors to index. We find that chunk sizes around 1 million for size 512 tend to crash the instance; the highest we recommend is 750000 (for embedding size 512), which can end up adding 19.5 million vectors to the index. We find that using a lower chunk size may result in a larger number of vectors being added to the index. "
      ]
    },
    {
      "cell_type": "code",
      "metadata": {
        "id": "JibRSGtmTimw",
        "colab_type": "code",
        "outputId": "371387f8-7bb5-4f81-a54e-1314751ddb92",
        "colab": {
          "base_uri": "https://localhost:8080/",
          "height": 1000
        }
      },
      "source": [
        "for i in range(25):\n",
        "    print(i)\n",
        "    indexC.append_index(appendEmbeds.copy())"
      ],
      "execution_count": 6,
      "outputs": [
        {
          "output_type": "stream",
          "text": [
            "0\n",
            "Index now has 187500 vectors on /job:worker/replica:0/task:0/device:TPU:0\n",
            "Index now has 187500 vectors on /job:worker/replica:0/task:0/device:TPU:1\n",
            "Index now has 187500 vectors on /job:worker/replica:0/task:0/device:TPU:2\n",
            "Index now has 187500 vectors on /job:worker/replica:0/task:0/device:TPU:3\n",
            "Index now has 187500 vectors on /job:worker/replica:0/task:0/device:TPU:4\n",
            "Index now has 187500 vectors on /job:worker/replica:0/task:0/device:TPU:5\n",
            "Index now has 187500 vectors on /job:worker/replica:0/task:0/device:TPU:6\n",
            "Index now has 187500 vectors on /job:worker/replica:0/task:0/device:TPU:7\n",
            "1\n",
            "Index now has 281250 vectors on /job:worker/replica:0/task:0/device:TPU:0\n",
            "Index now has 281250 vectors on /job:worker/replica:0/task:0/device:TPU:1\n",
            "Index now has 281250 vectors on /job:worker/replica:0/task:0/device:TPU:2\n",
            "Index now has 281250 vectors on /job:worker/replica:0/task:0/device:TPU:3\n",
            "Index now has 281250 vectors on /job:worker/replica:0/task:0/device:TPU:4\n",
            "Index now has 281250 vectors on /job:worker/replica:0/task:0/device:TPU:5\n",
            "Index now has 281250 vectors on /job:worker/replica:0/task:0/device:TPU:6\n",
            "Index now has 281250 vectors on /job:worker/replica:0/task:0/device:TPU:7\n",
            "2\n",
            "Index now has 375000 vectors on /job:worker/replica:0/task:0/device:TPU:0\n",
            "Index now has 375000 vectors on /job:worker/replica:0/task:0/device:TPU:1\n",
            "Index now has 375000 vectors on /job:worker/replica:0/task:0/device:TPU:2\n",
            "Index now has 375000 vectors on /job:worker/replica:0/task:0/device:TPU:3\n",
            "Index now has 375000 vectors on /job:worker/replica:0/task:0/device:TPU:4\n",
            "Index now has 375000 vectors on /job:worker/replica:0/task:0/device:TPU:5\n",
            "Index now has 375000 vectors on /job:worker/replica:0/task:0/device:TPU:6\n",
            "Index now has 375000 vectors on /job:worker/replica:0/task:0/device:TPU:7\n",
            "3\n",
            "Index now has 468750 vectors on /job:worker/replica:0/task:0/device:TPU:0\n",
            "Index now has 468750 vectors on /job:worker/replica:0/task:0/device:TPU:1\n",
            "Index now has 468750 vectors on /job:worker/replica:0/task:0/device:TPU:2\n",
            "Index now has 468750 vectors on /job:worker/replica:0/task:0/device:TPU:3\n",
            "Index now has 468750 vectors on /job:worker/replica:0/task:0/device:TPU:4\n",
            "Index now has 468750 vectors on /job:worker/replica:0/task:0/device:TPU:5\n",
            "Index now has 468750 vectors on /job:worker/replica:0/task:0/device:TPU:6\n",
            "Index now has 468750 vectors on /job:worker/replica:0/task:0/device:TPU:7\n",
            "4\n",
            "Index now has 562500 vectors on /job:worker/replica:0/task:0/device:TPU:0\n",
            "Index now has 562500 vectors on /job:worker/replica:0/task:0/device:TPU:1\n",
            "Index now has 562500 vectors on /job:worker/replica:0/task:0/device:TPU:2\n",
            "Index now has 562500 vectors on /job:worker/replica:0/task:0/device:TPU:3\n",
            "Index now has 562500 vectors on /job:worker/replica:0/task:0/device:TPU:4\n",
            "Index now has 562500 vectors on /job:worker/replica:0/task:0/device:TPU:5\n",
            "Index now has 562500 vectors on /job:worker/replica:0/task:0/device:TPU:6\n",
            "Index now has 562500 vectors on /job:worker/replica:0/task:0/device:TPU:7\n",
            "5\n",
            "Index now has 656250 vectors on /job:worker/replica:0/task:0/device:TPU:0\n",
            "Index now has 656250 vectors on /job:worker/replica:0/task:0/device:TPU:1\n",
            "Index now has 656250 vectors on /job:worker/replica:0/task:0/device:TPU:2\n",
            "Index now has 656250 vectors on /job:worker/replica:0/task:0/device:TPU:3\n",
            "Index now has 656250 vectors on /job:worker/replica:0/task:0/device:TPU:4\n",
            "Index now has 656250 vectors on /job:worker/replica:0/task:0/device:TPU:5\n",
            "Index now has 656250 vectors on /job:worker/replica:0/task:0/device:TPU:6\n",
            "Index now has 656250 vectors on /job:worker/replica:0/task:0/device:TPU:7\n",
            "6\n",
            "Index now has 750000 vectors on /job:worker/replica:0/task:0/device:TPU:0\n",
            "Index now has 750000 vectors on /job:worker/replica:0/task:0/device:TPU:1\n",
            "Index now has 750000 vectors on /job:worker/replica:0/task:0/device:TPU:2\n",
            "Index now has 750000 vectors on /job:worker/replica:0/task:0/device:TPU:3\n",
            "Index now has 750000 vectors on /job:worker/replica:0/task:0/device:TPU:4\n",
            "Index now has 750000 vectors on /job:worker/replica:0/task:0/device:TPU:5\n",
            "Index now has 750000 vectors on /job:worker/replica:0/task:0/device:TPU:6\n",
            "Index now has 750000 vectors on /job:worker/replica:0/task:0/device:TPU:7\n",
            "7\n",
            "Index now has 843750 vectors on /job:worker/replica:0/task:0/device:TPU:0\n",
            "Index now has 843750 vectors on /job:worker/replica:0/task:0/device:TPU:1\n",
            "Index now has 843750 vectors on /job:worker/replica:0/task:0/device:TPU:2\n",
            "Index now has 843750 vectors on /job:worker/replica:0/task:0/device:TPU:3\n",
            "Index now has 843750 vectors on /job:worker/replica:0/task:0/device:TPU:4\n",
            "Index now has 843750 vectors on /job:worker/replica:0/task:0/device:TPU:5\n",
            "Index now has 843750 vectors on /job:worker/replica:0/task:0/device:TPU:6\n",
            "Index now has 843750 vectors on /job:worker/replica:0/task:0/device:TPU:7\n",
            "8\n",
            "Index now has 937500 vectors on /job:worker/replica:0/task:0/device:TPU:0\n",
            "Index now has 937500 vectors on /job:worker/replica:0/task:0/device:TPU:1\n",
            "Index now has 937500 vectors on /job:worker/replica:0/task:0/device:TPU:2\n",
            "Index now has 937500 vectors on /job:worker/replica:0/task:0/device:TPU:3\n",
            "Index now has 937500 vectors on /job:worker/replica:0/task:0/device:TPU:4\n",
            "Index now has 937500 vectors on /job:worker/replica:0/task:0/device:TPU:5\n",
            "Index now has 937500 vectors on /job:worker/replica:0/task:0/device:TPU:6\n",
            "Index now has 937500 vectors on /job:worker/replica:0/task:0/device:TPU:7\n",
            "9\n",
            "Index now has 1031250 vectors on /job:worker/replica:0/task:0/device:TPU:0\n",
            "Index now has 1031250 vectors on /job:worker/replica:0/task:0/device:TPU:1\n",
            "Index now has 1031250 vectors on /job:worker/replica:0/task:0/device:TPU:2\n",
            "Index now has 1031250 vectors on /job:worker/replica:0/task:0/device:TPU:3\n",
            "Index now has 1031250 vectors on /job:worker/replica:0/task:0/device:TPU:4\n",
            "Index now has 1031250 vectors on /job:worker/replica:0/task:0/device:TPU:5\n",
            "Index now has 1031250 vectors on /job:worker/replica:0/task:0/device:TPU:6\n",
            "Index now has 1031250 vectors on /job:worker/replica:0/task:0/device:TPU:7\n",
            "10\n",
            "Index now has 1125000 vectors on /job:worker/replica:0/task:0/device:TPU:0\n",
            "Index now has 1125000 vectors on /job:worker/replica:0/task:0/device:TPU:1\n",
            "Index now has 1125000 vectors on /job:worker/replica:0/task:0/device:TPU:2\n",
            "Index now has 1125000 vectors on /job:worker/replica:0/task:0/device:TPU:3\n",
            "Index now has 1125000 vectors on /job:worker/replica:0/task:0/device:TPU:4\n",
            "Index now has 1125000 vectors on /job:worker/replica:0/task:0/device:TPU:5\n",
            "Index now has 1125000 vectors on /job:worker/replica:0/task:0/device:TPU:6\n",
            "Index now has 1125000 vectors on /job:worker/replica:0/task:0/device:TPU:7\n",
            "11\n",
            "Index now has 1218750 vectors on /job:worker/replica:0/task:0/device:TPU:0\n",
            "Index now has 1218750 vectors on /job:worker/replica:0/task:0/device:TPU:1\n",
            "Index now has 1218750 vectors on /job:worker/replica:0/task:0/device:TPU:2\n",
            "Index now has 1218750 vectors on /job:worker/replica:0/task:0/device:TPU:3\n",
            "Index now has 1218750 vectors on /job:worker/replica:0/task:0/device:TPU:4\n",
            "Index now has 1218750 vectors on /job:worker/replica:0/task:0/device:TPU:5\n",
            "Index now has 1218750 vectors on /job:worker/replica:0/task:0/device:TPU:6\n",
            "Index now has 1218750 vectors on /job:worker/replica:0/task:0/device:TPU:7\n",
            "12\n",
            "Index now has 1312500 vectors on /job:worker/replica:0/task:0/device:TPU:0\n",
            "Index now has 1312500 vectors on /job:worker/replica:0/task:0/device:TPU:1\n",
            "Index now has 1312500 vectors on /job:worker/replica:0/task:0/device:TPU:2\n",
            "Index now has 1312500 vectors on /job:worker/replica:0/task:0/device:TPU:3\n",
            "Index now has 1312500 vectors on /job:worker/replica:0/task:0/device:TPU:4\n",
            "Index now has 1312500 vectors on /job:worker/replica:0/task:0/device:TPU:5\n",
            "Index now has 1312500 vectors on /job:worker/replica:0/task:0/device:TPU:6\n",
            "Index now has 1312500 vectors on /job:worker/replica:0/task:0/device:TPU:7\n",
            "13\n",
            "Index now has 1406250 vectors on /job:worker/replica:0/task:0/device:TPU:0\n",
            "Index now has 1406250 vectors on /job:worker/replica:0/task:0/device:TPU:1\n",
            "Index now has 1406250 vectors on /job:worker/replica:0/task:0/device:TPU:2\n",
            "Index now has 1406250 vectors on /job:worker/replica:0/task:0/device:TPU:3\n",
            "Index now has 1406250 vectors on /job:worker/replica:0/task:0/device:TPU:4\n",
            "Index now has 1406250 vectors on /job:worker/replica:0/task:0/device:TPU:5\n",
            "Index now has 1406250 vectors on /job:worker/replica:0/task:0/device:TPU:6\n",
            "Index now has 1406250 vectors on /job:worker/replica:0/task:0/device:TPU:7\n",
            "14\n",
            "Index now has 1500000 vectors on /job:worker/replica:0/task:0/device:TPU:0\n",
            "Index now has 1500000 vectors on /job:worker/replica:0/task:0/device:TPU:1\n",
            "Index now has 1500000 vectors on /job:worker/replica:0/task:0/device:TPU:2\n",
            "Index now has 1500000 vectors on /job:worker/replica:0/task:0/device:TPU:3\n",
            "Index now has 1500000 vectors on /job:worker/replica:0/task:0/device:TPU:4\n",
            "Index now has 1500000 vectors on /job:worker/replica:0/task:0/device:TPU:5\n",
            "Index now has 1500000 vectors on /job:worker/replica:0/task:0/device:TPU:6\n",
            "Index now has 1500000 vectors on /job:worker/replica:0/task:0/device:TPU:7\n",
            "15\n",
            "Index now has 1593750 vectors on /job:worker/replica:0/task:0/device:TPU:0\n",
            "Index now has 1593750 vectors on /job:worker/replica:0/task:0/device:TPU:1\n",
            "Index now has 1593750 vectors on /job:worker/replica:0/task:0/device:TPU:2\n",
            "Index now has 1593750 vectors on /job:worker/replica:0/task:0/device:TPU:3\n",
            "Index now has 1593750 vectors on /job:worker/replica:0/task:0/device:TPU:4\n",
            "Index now has 1593750 vectors on /job:worker/replica:0/task:0/device:TPU:5\n",
            "Index now has 1593750 vectors on /job:worker/replica:0/task:0/device:TPU:6\n",
            "Index now has 1593750 vectors on /job:worker/replica:0/task:0/device:TPU:7\n",
            "16\n",
            "Index now has 1687500 vectors on /job:worker/replica:0/task:0/device:TPU:0\n",
            "Index now has 1687500 vectors on /job:worker/replica:0/task:0/device:TPU:1\n",
            "Index now has 1687500 vectors on /job:worker/replica:0/task:0/device:TPU:2\n",
            "Index now has 1687500 vectors on /job:worker/replica:0/task:0/device:TPU:3\n",
            "Index now has 1687500 vectors on /job:worker/replica:0/task:0/device:TPU:4\n",
            "Index now has 1687500 vectors on /job:worker/replica:0/task:0/device:TPU:5\n",
            "Index now has 1687500 vectors on /job:worker/replica:0/task:0/device:TPU:6\n",
            "Index now has 1687500 vectors on /job:worker/replica:0/task:0/device:TPU:7\n",
            "17\n",
            "Index now has 1781250 vectors on /job:worker/replica:0/task:0/device:TPU:0\n",
            "Index now has 1781250 vectors on /job:worker/replica:0/task:0/device:TPU:1\n",
            "Index now has 1781250 vectors on /job:worker/replica:0/task:0/device:TPU:2\n",
            "Index now has 1781250 vectors on /job:worker/replica:0/task:0/device:TPU:3\n",
            "Index now has 1781250 vectors on /job:worker/replica:0/task:0/device:TPU:4\n",
            "Index now has 1781250 vectors on /job:worker/replica:0/task:0/device:TPU:5\n",
            "Index now has 1781250 vectors on /job:worker/replica:0/task:0/device:TPU:6\n",
            "Index now has 1781250 vectors on /job:worker/replica:0/task:0/device:TPU:7\n",
            "18\n",
            "Index now has 1875000 vectors on /job:worker/replica:0/task:0/device:TPU:0\n",
            "Index now has 1875000 vectors on /job:worker/replica:0/task:0/device:TPU:1\n",
            "Index now has 1875000 vectors on /job:worker/replica:0/task:0/device:TPU:2\n",
            "Index now has 1875000 vectors on /job:worker/replica:0/task:0/device:TPU:3\n",
            "Index now has 1875000 vectors on /job:worker/replica:0/task:0/device:TPU:4\n",
            "Index now has 1875000 vectors on /job:worker/replica:0/task:0/device:TPU:5\n",
            "Index now has 1875000 vectors on /job:worker/replica:0/task:0/device:TPU:6\n",
            "Index now has 1875000 vectors on /job:worker/replica:0/task:0/device:TPU:7\n",
            "19\n",
            "Index now has 1968750 vectors on /job:worker/replica:0/task:0/device:TPU:0\n",
            "Index now has 1968750 vectors on /job:worker/replica:0/task:0/device:TPU:1\n",
            "Index now has 1968750 vectors on /job:worker/replica:0/task:0/device:TPU:2\n",
            "Index now has 1968750 vectors on /job:worker/replica:0/task:0/device:TPU:3\n",
            "Index now has 1968750 vectors on /job:worker/replica:0/task:0/device:TPU:4\n",
            "Index now has 1968750 vectors on /job:worker/replica:0/task:0/device:TPU:5\n",
            "Index now has 1968750 vectors on /job:worker/replica:0/task:0/device:TPU:6\n",
            "Index now has 1968750 vectors on /job:worker/replica:0/task:0/device:TPU:7\n",
            "20\n",
            "Index now has 2062500 vectors on /job:worker/replica:0/task:0/device:TPU:0\n",
            "Index now has 2062500 vectors on /job:worker/replica:0/task:0/device:TPU:1\n",
            "Index now has 2062500 vectors on /job:worker/replica:0/task:0/device:TPU:2\n",
            "Index now has 2062500 vectors on /job:worker/replica:0/task:0/device:TPU:3\n",
            "Index now has 2062500 vectors on /job:worker/replica:0/task:0/device:TPU:4\n",
            "Index now has 2062500 vectors on /job:worker/replica:0/task:0/device:TPU:5\n",
            "Index now has 2062500 vectors on /job:worker/replica:0/task:0/device:TPU:6\n",
            "Index now has 2062500 vectors on /job:worker/replica:0/task:0/device:TPU:7\n",
            "21\n",
            "Index now has 2156250 vectors on /job:worker/replica:0/task:0/device:TPU:0\n",
            "Index now has 2156250 vectors on /job:worker/replica:0/task:0/device:TPU:1\n",
            "Index now has 2156250 vectors on /job:worker/replica:0/task:0/device:TPU:2\n",
            "Index now has 2156250 vectors on /job:worker/replica:0/task:0/device:TPU:3\n",
            "Index now has 2156250 vectors on /job:worker/replica:0/task:0/device:TPU:4\n",
            "Index now has 2156250 vectors on /job:worker/replica:0/task:0/device:TPU:5\n",
            "Index now has 2156250 vectors on /job:worker/replica:0/task:0/device:TPU:6\n",
            "Index now has 2156250 vectors on /job:worker/replica:0/task:0/device:TPU:7\n",
            "22\n",
            "Index now has 2250000 vectors on /job:worker/replica:0/task:0/device:TPU:0\n",
            "Index now has 2250000 vectors on /job:worker/replica:0/task:0/device:TPU:1\n",
            "Index now has 2250000 vectors on /job:worker/replica:0/task:0/device:TPU:2\n",
            "Index now has 2250000 vectors on /job:worker/replica:0/task:0/device:TPU:3\n",
            "Index now has 2250000 vectors on /job:worker/replica:0/task:0/device:TPU:4\n",
            "Index now has 2250000 vectors on /job:worker/replica:0/task:0/device:TPU:5\n",
            "Index now has 2250000 vectors on /job:worker/replica:0/task:0/device:TPU:6\n",
            "Index now has 2250000 vectors on /job:worker/replica:0/task:0/device:TPU:7\n",
            "23\n",
            "Index now has 2343750 vectors on /job:worker/replica:0/task:0/device:TPU:0\n",
            "Index now has 2343750 vectors on /job:worker/replica:0/task:0/device:TPU:1\n",
            "Index now has 2343750 vectors on /job:worker/replica:0/task:0/device:TPU:2\n",
            "Index now has 2343750 vectors on /job:worker/replica:0/task:0/device:TPU:3\n",
            "Index now has 2343750 vectors on /job:worker/replica:0/task:0/device:TPU:4\n",
            "Index now has 2343750 vectors on /job:worker/replica:0/task:0/device:TPU:5\n",
            "Index now has 2343750 vectors on /job:worker/replica:0/task:0/device:TPU:6\n",
            "Index now has 2343750 vectors on /job:worker/replica:0/task:0/device:TPU:7\n",
            "24\n",
            "Index now has 2437500 vectors on /job:worker/replica:0/task:0/device:TPU:0\n",
            "Index now has 2437500 vectors on /job:worker/replica:0/task:0/device:TPU:1\n",
            "Index now has 2437500 vectors on /job:worker/replica:0/task:0/device:TPU:2\n",
            "Index now has 2437500 vectors on /job:worker/replica:0/task:0/device:TPU:3\n",
            "Index now has 2437500 vectors on /job:worker/replica:0/task:0/device:TPU:4\n",
            "Index now has 2437500 vectors on /job:worker/replica:0/task:0/device:TPU:5\n",
            "Index now has 2437500 vectors on /job:worker/replica:0/task:0/device:TPU:6\n",
            "Index now has 2437500 vectors on /job:worker/replica:0/task:0/device:TPU:7\n"
          ],
          "name": "stdout"
        }
      ]
    },
    {
      "cell_type": "markdown",
      "metadata": {
        "id": "i_c-H3Y4Eqev",
        "colab_type": "text"
      },
      "source": [
        "Search! \n",
        "\n",
        "# Warning: The 1st search will take 70-90 seconds for some reason (maybe the TPU is warming up?). After the 2nd search, the speed will drop to ~1.025 seconds. "
      ]
    },
    {
      "cell_type": "code",
      "metadata": {
        "id": "3uu2SL-hix2q",
        "colab_type": "code",
        "outputId": "135d2341-49ef-4484-8833-9ad37c522e1f",
        "colab": {
          "base_uri": "https://localhost:8080/",
          "height": 166
        }
      },
      "source": [
        "import time\n",
        "dummy_vector = tf.random.normal([1, 512])\n",
        "s = time.time()\n",
        "_ = indexC.search(dummy_vector, distance_metric='cosine', top_k=20)\n",
        "e = time.time()\n",
        "print('Warmup search time :', np.round(e-s, 3), 'secs')"
      ],
      "execution_count": 15,
      "outputs": [
        {
          "output_type": "stream",
          "text": [
            "Search running on /job:worker/replica:0/task:0/device:TPU:0\n",
            "Search running on /job:worker/replica:0/task:0/device:TPU:1\n",
            "Search running on /job:worker/replica:0/task:0/device:TPU:2\n",
            "Search running on /job:worker/replica:0/task:0/device:TPU:3\n",
            "Search running on /job:worker/replica:0/task:0/device:TPU:4\n",
            "Search running on /job:worker/replica:0/task:0/device:TPU:5\n",
            "Search running on /job:worker/replica:0/task:0/device:TPU:6\n",
            "Search running on /job:worker/replica:0/task:0/device:TPU:7\n",
            "Warmup search time : 1.017 secs\n"
          ],
          "name": "stdout"
        }
      ]
    }
  ]
}